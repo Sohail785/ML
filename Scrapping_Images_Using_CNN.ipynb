{
  "nbformat": 4,
  "nbformat_minor": 0,
  "metadata": {
    "colab": {
      "name": "Scrapping Images Using CNN.ipynb",
      "provenance": [],
      "collapsed_sections": [],
      "authorship_tag": "ABX9TyOmX+zdUCkrvj2IeXMRc3bA",
      "include_colab_link": true
    },
    "kernelspec": {
      "name": "python3",
      "display_name": "Python 3"
    }
  },
  "cells": [
    {
      "cell_type": "markdown",
      "metadata": {
        "id": "view-in-github",
        "colab_type": "text"
      },
      "source": [
        "<a href=\"https://colab.research.google.com/github/Sohail785/ML/blob/master/Scrapping_Images_Using_CNN.ipynb\" target=\"_parent\"><img src=\"https://colab.research.google.com/assets/colab-badge.svg\" alt=\"Open In Colab\"/></a>"
      ]
    },
    {
      "cell_type": "code",
      "metadata": {
        "id": "ztcgNVe3NnXT",
        "colab_type": "code",
        "colab": {
          "base_uri": "https://localhost:8080/",
          "height": 139
        },
        "outputId": "c68f3fef-b001-45d7-ef66-704cabd9f230"
      },
      "source": [
        "pip install selenium"
      ],
      "execution_count": 1,
      "outputs": [
        {
          "output_type": "stream",
          "text": [
            "Collecting selenium\n",
            "\u001b[?25l  Downloading https://files.pythonhosted.org/packages/80/d6/4294f0b4bce4de0abf13e17190289f9d0613b0a44e5dd6a7f5ca98459853/selenium-3.141.0-py2.py3-none-any.whl (904kB)\n",
            "\r\u001b[K     |▍                               | 10kB 16.8MB/s eta 0:00:01\r\u001b[K     |▊                               | 20kB 1.7MB/s eta 0:00:01\r\u001b[K     |█                               | 30kB 2.4MB/s eta 0:00:01\r\u001b[K     |█▌                              | 40kB 2.6MB/s eta 0:00:01\r\u001b[K     |█▉                              | 51kB 1.9MB/s eta 0:00:01\r\u001b[K     |██▏                             | 61kB 2.2MB/s eta 0:00:01\r\u001b[K     |██▌                             | 71kB 2.4MB/s eta 0:00:01\r\u001b[K     |███                             | 81kB 2.7MB/s eta 0:00:01\r\u001b[K     |███▎                            | 92kB 2.9MB/s eta 0:00:01\r\u001b[K     |███▋                            | 102kB 2.7MB/s eta 0:00:01\r\u001b[K     |████                            | 112kB 2.7MB/s eta 0:00:01\r\u001b[K     |████▍                           | 122kB 2.7MB/s eta 0:00:01\r\u001b[K     |████▊                           | 133kB 2.7MB/s eta 0:00:01\r\u001b[K     |█████                           | 143kB 2.7MB/s eta 0:00:01\r\u001b[K     |█████▍                          | 153kB 2.7MB/s eta 0:00:01\r\u001b[K     |█████▉                          | 163kB 2.7MB/s eta 0:00:01\r\u001b[K     |██████▏                         | 174kB 2.7MB/s eta 0:00:01\r\u001b[K     |██████▌                         | 184kB 2.7MB/s eta 0:00:01\r\u001b[K     |██████▉                         | 194kB 2.7MB/s eta 0:00:01\r\u001b[K     |███████▎                        | 204kB 2.7MB/s eta 0:00:01\r\u001b[K     |███████▋                        | 215kB 2.7MB/s eta 0:00:01\r\u001b[K     |████████                        | 225kB 2.7MB/s eta 0:00:01\r\u001b[K     |████████▎                       | 235kB 2.7MB/s eta 0:00:01\r\u001b[K     |████████▊                       | 245kB 2.7MB/s eta 0:00:01\r\u001b[K     |█████████                       | 256kB 2.7MB/s eta 0:00:01\r\u001b[K     |█████████▍                      | 266kB 2.7MB/s eta 0:00:01\r\u001b[K     |█████████▉                      | 276kB 2.7MB/s eta 0:00:01\r\u001b[K     |██████████▏                     | 286kB 2.7MB/s eta 0:00:01\r\u001b[K     |██████████▌                     | 296kB 2.7MB/s eta 0:00:01\r\u001b[K     |██████████▉                     | 307kB 2.7MB/s eta 0:00:01\r\u001b[K     |███████████▎                    | 317kB 2.7MB/s eta 0:00:01\r\u001b[K     |███████████▋                    | 327kB 2.7MB/s eta 0:00:01\r\u001b[K     |████████████                    | 337kB 2.7MB/s eta 0:00:01\r\u001b[K     |████████████▎                   | 348kB 2.7MB/s eta 0:00:01\r\u001b[K     |████████████▊                   | 358kB 2.7MB/s eta 0:00:01\r\u001b[K     |█████████████                   | 368kB 2.7MB/s eta 0:00:01\r\u001b[K     |█████████████▍                  | 378kB 2.7MB/s eta 0:00:01\r\u001b[K     |█████████████▊                  | 389kB 2.7MB/s eta 0:00:01\r\u001b[K     |██████████████▏                 | 399kB 2.7MB/s eta 0:00:01\r\u001b[K     |██████████████▌                 | 409kB 2.7MB/s eta 0:00:01\r\u001b[K     |██████████████▉                 | 419kB 2.7MB/s eta 0:00:01\r\u001b[K     |███████████████▏                | 430kB 2.7MB/s eta 0:00:01\r\u001b[K     |███████████████▋                | 440kB 2.7MB/s eta 0:00:01\r\u001b[K     |████████████████                | 450kB 2.7MB/s eta 0:00:01\r\u001b[K     |████████████████▎               | 460kB 2.7MB/s eta 0:00:01\r\u001b[K     |████████████████▋               | 471kB 2.7MB/s eta 0:00:01\r\u001b[K     |█████████████████               | 481kB 2.7MB/s eta 0:00:01\r\u001b[K     |█████████████████▍              | 491kB 2.7MB/s eta 0:00:01\r\u001b[K     |█████████████████▊              | 501kB 2.7MB/s eta 0:00:01\r\u001b[K     |██████████████████▏             | 512kB 2.7MB/s eta 0:00:01\r\u001b[K     |██████████████████▌             | 522kB 2.7MB/s eta 0:00:01\r\u001b[K     |██████████████████▉             | 532kB 2.7MB/s eta 0:00:01\r\u001b[K     |███████████████████▏            | 542kB 2.7MB/s eta 0:00:01\r\u001b[K     |███████████████████▋            | 552kB 2.7MB/s eta 0:00:01\r\u001b[K     |████████████████████            | 563kB 2.7MB/s eta 0:00:01\r\u001b[K     |████████████████████▎           | 573kB 2.7MB/s eta 0:00:01\r\u001b[K     |████████████████████▋           | 583kB 2.7MB/s eta 0:00:01\r\u001b[K     |█████████████████████           | 593kB 2.7MB/s eta 0:00:01\r\u001b[K     |█████████████████████▍          | 604kB 2.7MB/s eta 0:00:01\r\u001b[K     |█████████████████████▊          | 614kB 2.7MB/s eta 0:00:01\r\u001b[K     |██████████████████████          | 624kB 2.7MB/s eta 0:00:01\r\u001b[K     |██████████████████████▌         | 634kB 2.7MB/s eta 0:00:01\r\u001b[K     |██████████████████████▉         | 645kB 2.7MB/s eta 0:00:01\r\u001b[K     |███████████████████████▏        | 655kB 2.7MB/s eta 0:00:01\r\u001b[K     |███████████████████████▌        | 665kB 2.7MB/s eta 0:00:01\r\u001b[K     |████████████████████████        | 675kB 2.7MB/s eta 0:00:01\r\u001b[K     |████████████████████████▎       | 686kB 2.7MB/s eta 0:00:01\r\u001b[K     |████████████████████████▋       | 696kB 2.7MB/s eta 0:00:01\r\u001b[K     |█████████████████████████       | 706kB 2.7MB/s eta 0:00:01\r\u001b[K     |█████████████████████████▍      | 716kB 2.7MB/s eta 0:00:01\r\u001b[K     |█████████████████████████▊      | 727kB 2.7MB/s eta 0:00:01\r\u001b[K     |██████████████████████████      | 737kB 2.7MB/s eta 0:00:01\r\u001b[K     |██████████████████████████▍     | 747kB 2.7MB/s eta 0:00:01\r\u001b[K     |██████████████████████████▉     | 757kB 2.7MB/s eta 0:00:01\r\u001b[K     |███████████████████████████▏    | 768kB 2.7MB/s eta 0:00:01\r\u001b[K     |███████████████████████████▌    | 778kB 2.7MB/s eta 0:00:01\r\u001b[K     |████████████████████████████    | 788kB 2.7MB/s eta 0:00:01\r\u001b[K     |████████████████████████████▎   | 798kB 2.7MB/s eta 0:00:01\r\u001b[K     |████████████████████████████▋   | 808kB 2.7MB/s eta 0:00:01\r\u001b[K     |█████████████████████████████   | 819kB 2.7MB/s eta 0:00:01\r\u001b[K     |█████████████████████████████▍  | 829kB 2.7MB/s eta 0:00:01\r\u001b[K     |█████████████████████████████▊  | 839kB 2.7MB/s eta 0:00:01\r\u001b[K     |██████████████████████████████  | 849kB 2.7MB/s eta 0:00:01\r\u001b[K     |██████████████████████████████▍ | 860kB 2.7MB/s eta 0:00:01\r\u001b[K     |██████████████████████████████▉ | 870kB 2.7MB/s eta 0:00:01\r\u001b[K     |███████████████████████████████▏| 880kB 2.7MB/s eta 0:00:01\r\u001b[K     |███████████████████████████████▌| 890kB 2.7MB/s eta 0:00:01\r\u001b[K     |███████████████████████████████▉| 901kB 2.7MB/s eta 0:00:01\r\u001b[K     |████████████████████████████████| 911kB 2.7MB/s \n",
            "\u001b[?25hRequirement already satisfied: urllib3 in /usr/local/lib/python3.6/dist-packages (from selenium) (1.24.3)\n",
            "Installing collected packages: selenium\n",
            "Successfully installed selenium-3.141.0\n"
          ],
          "name": "stdout"
        }
      ]
    },
    {
      "cell_type": "code",
      "metadata": {
        "id": "gqHXEhfWNtFF",
        "colab_type": "code",
        "colab": {
          "base_uri": "https://localhost:8080/",
          "height": 122
        },
        "outputId": "ade9496b-2216-4190-c356-64a5b6a61a62"
      },
      "source": [
        "from google.colab import drive\n",
        "drive.mount('/content/gdrive')"
      ],
      "execution_count": 2,
      "outputs": [
        {
          "output_type": "stream",
          "text": [
            "Go to this URL in a browser: https://accounts.google.com/o/oauth2/auth?client_id=947318989803-6bn6qk8qdgf4n4g3pfee6491hc0brc4i.apps.googleusercontent.com&redirect_uri=urn%3aietf%3awg%3aoauth%3a2.0%3aoob&response_type=code&scope=email%20https%3a%2f%2fwww.googleapis.com%2fauth%2fdocs.test%20https%3a%2f%2fwww.googleapis.com%2fauth%2fdrive%20https%3a%2f%2fwww.googleapis.com%2fauth%2fdrive.photos.readonly%20https%3a%2f%2fwww.googleapis.com%2fauth%2fpeopleapi.readonly\n",
            "\n",
            "Enter your authorization code:\n",
            "··········\n",
            "Mounted at /content/gdrive\n"
          ],
          "name": "stdout"
        }
      ]
    },
    {
      "cell_type": "code",
      "metadata": {
        "id": "RwaSXgTsNypL",
        "colab_type": "code",
        "colab": {
          "base_uri": "https://localhost:8080/",
          "height": 51
        },
        "outputId": "96dd90a3-ae5d-4e33-97c3-a0d4d8505b57"
      },
      "source": [
        "%tensorflow_version 1.x\n",
        "import tensorflow as tf\n",
        "print(tf.__version__)"
      ],
      "execution_count": 3,
      "outputs": [
        {
          "output_type": "stream",
          "text": [
            "TensorFlow 1.x selected.\n",
            "1.15.2\n"
          ],
          "name": "stdout"
        }
      ]
    },
    {
      "cell_type": "code",
      "metadata": {
        "id": "jx14qdWWOBRW",
        "colab_type": "code",
        "colab": {
          "base_uri": "https://localhost:8080/",
          "height": 34
        },
        "outputId": "e35e8593-23f2-4795-ccb3-7c3f894970ef"
      },
      "source": [
        "from keras.preprocessing.image import ImageDataGenerator, load_img\n",
        "from keras.models import Sequential\n",
        "from keras.layers import Conv2D, MaxPooling2D\n",
        "from keras.layers import Activation, Dropout, Flatten, Dense\n",
        "from keras import backend as K\n",
        "from keras import optimizers\n",
        "import scipy\n",
        "\n",
        "\n",
        "from keras.models import load_model\n",
        "from keras.preprocessing import image\n",
        "import numpy as np\n",
        "from os import listdir\n",
        "from os.path import isfile, join"
      ],
      "execution_count": 4,
      "outputs": [
        {
          "output_type": "stream",
          "text": [
            "Using TensorFlow backend.\n"
          ],
          "name": "stderr"
        }
      ]
    },
    {
      "cell_type": "code",
      "metadata": {
        "id": "A4UruigUOGQo",
        "colab_type": "code",
        "colab": {}
      },
      "source": [
        "input_shape=(150,150,3)\n",
        "img_width=150\n",
        "img_height=150\n",
        "\n",
        "\n",
        "nb_train_samples=2000\n",
        "nb_validation_samples=1000\n",
        "batch_size=32\n",
        "epochs=10\n",
        "\n",
        "train_data_dir='/content/gdrive/My Drive/Colab Notebooks/scrap_img/train'\n",
        "validation_data_dir='/content/gdrive/My Drive/Colab Notebooks/scrap_img/test'"
      ],
      "execution_count": 6,
      "outputs": []
    },
    {
      "cell_type": "code",
      "metadata": {
        "id": "A4uk8MHgOLKZ",
        "colab_type": "code",
        "colab": {
          "base_uri": "https://localhost:8080/",
          "height": 51
        },
        "outputId": "396a304d-dbbc-4494-9806-d2846b4b445a"
      },
      "source": [
        "#rescaling data\n",
        "datagen=ImageDataGenerator(rescale=1./255)\n",
        "\n",
        "train_generator=datagen.flow_from_directory(\n",
        "         train_data_dir,\n",
        "         target_size=(img_width,img_height),\n",
        "         batch_size=8,\n",
        "         class_mode='categorical')\n",
        "\n",
        "validation_generator=datagen.flow_from_directory(\n",
        "         validation_data_dir,\n",
        "         target_size=(img_width,img_height),\n",
        "         batch_size=16,\n",
        "         class_mode='categorical')"
      ],
      "execution_count": 7,
      "outputs": [
        {
          "output_type": "stream",
          "text": [
            "Found 308 images belonging to 3 classes.\n",
            "Found 82 images belonging to 3 classes.\n"
          ],
          "name": "stdout"
        }
      ]
    },
    {
      "cell_type": "code",
      "metadata": {
        "id": "lz9S54yhX9df",
        "colab_type": "code",
        "colab": {
          "base_uri": "https://localhost:8080/",
          "height": 122
        },
        "outputId": "3358720a-0055-4584-90d0-2534a2e048fb"
      },
      "source": [
        "#model building\n",
        "model = Sequential()\n",
        "model.add(Conv2D(32, (3, 3), input_shape=input_shape))\n",
        "model.add(Activation('relu'))\n",
        "model.add(MaxPooling2D(pool_size=(2, 2)))\n",
        "model.add(Dropout(0.2))\n",
        "\n",
        "model.add(Conv2D(64, (3, 3)))\n",
        "model.add(Activation('relu'))\n",
        "model.add(MaxPooling2D(pool_size=(2, 2)))\n",
        "model.add(Dropout(0.2))\n",
        "\n",
        "model.add(Conv2D(64, (3, 3)))\n",
        "model.add(Activation('relu'))\n",
        "model.add(MaxPooling2D(pool_size=(2, 2)))\n",
        "model.add(Dropout(0.2))\n",
        "\n",
        "#flatten layer\n",
        "model.add(Flatten()) # Output convert into one dimension layer and will go to Dense layer\n",
        "model.add(Dense(64, activation='relu', kernel_initializer='he_uniform'))\n",
        "model.add(Dropout(0.4))\n",
        "model.add(Dense(3, activation='softmax'))"
      ],
      "execution_count": 8,
      "outputs": [
        {
          "output_type": "stream",
          "text": [
            "WARNING:tensorflow:From /tensorflow-1.15.2/python3.6/tensorflow_core/python/ops/resource_variable_ops.py:1630: calling BaseResourceVariable.__init__ (from tensorflow.python.ops.resource_variable_ops) with constraint is deprecated and will be removed in a future version.\n",
            "Instructions for updating:\n",
            "If using Keras pass *_constraint arguments to layers.\n",
            "WARNING:tensorflow:From /usr/local/lib/python3.6/dist-packages/keras/backend/tensorflow_backend.py:4070: The name tf.nn.max_pool is deprecated. Please use tf.nn.max_pool2d instead.\n",
            "\n"
          ],
          "name": "stdout"
        }
      ]
    },
    {
      "cell_type": "code",
      "metadata": {
        "id": "-zFVSi7XYEE9",
        "colab_type": "code",
        "colab": {
          "base_uri": "https://localhost:8080/",
          "height": 697
        },
        "outputId": "c2d1a033-cf17-4834-bc46-5b4ac1b46d62"
      },
      "source": [
        "model.summary()"
      ],
      "execution_count": 9,
      "outputs": [
        {
          "output_type": "stream",
          "text": [
            "Model: \"sequential_1\"\n",
            "_________________________________________________________________\n",
            "Layer (type)                 Output Shape              Param #   \n",
            "=================================================================\n",
            "conv2d_1 (Conv2D)            (None, 148, 148, 32)      896       \n",
            "_________________________________________________________________\n",
            "activation_1 (Activation)    (None, 148, 148, 32)      0         \n",
            "_________________________________________________________________\n",
            "max_pooling2d_1 (MaxPooling2 (None, 74, 74, 32)        0         \n",
            "_________________________________________________________________\n",
            "dropout_1 (Dropout)          (None, 74, 74, 32)        0         \n",
            "_________________________________________________________________\n",
            "conv2d_2 (Conv2D)            (None, 72, 72, 64)        18496     \n",
            "_________________________________________________________________\n",
            "activation_2 (Activation)    (None, 72, 72, 64)        0         \n",
            "_________________________________________________________________\n",
            "max_pooling2d_2 (MaxPooling2 (None, 36, 36, 64)        0         \n",
            "_________________________________________________________________\n",
            "dropout_2 (Dropout)          (None, 36, 36, 64)        0         \n",
            "_________________________________________________________________\n",
            "conv2d_3 (Conv2D)            (None, 34, 34, 64)        36928     \n",
            "_________________________________________________________________\n",
            "activation_3 (Activation)    (None, 34, 34, 64)        0         \n",
            "_________________________________________________________________\n",
            "max_pooling2d_3 (MaxPooling2 (None, 17, 17, 64)        0         \n",
            "_________________________________________________________________\n",
            "dropout_3 (Dropout)          (None, 17, 17, 64)        0         \n",
            "_________________________________________________________________\n",
            "flatten_1 (Flatten)          (None, 18496)             0         \n",
            "_________________________________________________________________\n",
            "dense_1 (Dense)              (None, 64)                1183808   \n",
            "_________________________________________________________________\n",
            "dropout_4 (Dropout)          (None, 64)                0         \n",
            "_________________________________________________________________\n",
            "dense_2 (Dense)              (None, 3)                 195       \n",
            "=================================================================\n",
            "Total params: 1,240,323\n",
            "Trainable params: 1,240,323\n",
            "Non-trainable params: 0\n",
            "_________________________________________________________________\n"
          ],
          "name": "stdout"
        }
      ]
    },
    {
      "cell_type": "code",
      "metadata": {
        "id": "Nm4n4-hHYJEv",
        "colab_type": "code",
        "colab": {}
      },
      "source": [
        "\n",
        "from keras.optimizers import Adam\n",
        "opt = Adam(lr=0.001)\n",
        "model.compile(optimizer=opt, loss='categorical_crossentropy', metrics=['accuracy'])\n",
        "#model saving\n",
        "model.save('variation_dropout.h5')"
      ],
      "execution_count": 10,
      "outputs": []
    },
    {
      "cell_type": "code",
      "metadata": {
        "id": "dZ9Si-dYYWFJ",
        "colab_type": "code",
        "colab": {}
      },
      "source": [
        "#Data augmentation\n",
        "train_datagen_augmenteted=ImageDataGenerator(\n",
        "       rescale=1./255,\n",
        "       shear_range=0.2,\n",
        "       zoom_range=0.2,\n",
        "       rotation_range=30,\n",
        "       horizontal_flip=True)"
      ],
      "execution_count": 11,
      "outputs": []
    },
    {
      "cell_type": "code",
      "metadata": {
        "id": "YJXZMvzsYb9z",
        "colab_type": "code",
        "colab": {
          "base_uri": "https://localhost:8080/",
          "height": 34
        },
        "outputId": "6fe51c82-4c37-4794-b706-72f66075510a"
      },
      "source": [
        "train_datagen_augmenteted=train_datagen_augmenteted.flow_from_directory(\n",
        "                train_data_dir,\n",
        "                target_size=(img_width,img_height),\n",
        "                batch_size=8,\n",
        "               class_mode='categorical',)"
      ],
      "execution_count": 12,
      "outputs": [
        {
          "output_type": "stream",
          "text": [
            "Found 308 images belonging to 3 classes.\n"
          ],
          "name": "stdout"
        }
      ]
    },
    {
      "cell_type": "code",
      "metadata": {
        "id": "fbF5D6qKYfy9",
        "colab_type": "code",
        "colab": {
          "base_uri": "https://localhost:8080/",
          "height": 564
        },
        "outputId": "fab248ba-faaa-4af9-bdec-5f48765001c6"
      },
      "source": [
        "from keras.callbacks import ModelCheckpoint, EarlyStopping\n",
        "checkpoint = ModelCheckpoint(\"variation_dropout.h5\", monitor='val_accuracy', verbose=1, save_best_only=True, save_weights_only=False, mode='auto', period=1)\n",
        "early = EarlyStopping(monitor='val_accuracy', min_delta=0, patience=5, verbose=1, mode='auto')\n",
        "\n",
        "\n",
        "history=model.fit_generator(\n",
        "    train_generator,\n",
        "    steps_per_epoch=nb_train_samples//batch_size,\n",
        "    epochs=epochs,\n",
        "    validation_data=validation_generator,\n",
        "    validation_steps=nb_validation_samples//batch_size,\n",
        "    callbacks=[checkpoint,early])"
      ],
      "execution_count": 13,
      "outputs": [
        {
          "output_type": "stream",
          "text": [
            "WARNING:tensorflow:From /usr/local/lib/python3.6/dist-packages/keras/backend/tensorflow_backend.py:422: The name tf.global_variables is deprecated. Please use tf.compat.v1.global_variables instead.\n",
            "\n",
            "Epoch 1/10\n",
            "62/62 [==============================] - 71s 1s/step - loss: 0.7995 - accuracy: 0.6086 - val_loss: 0.5646 - val_accuracy: 0.7207\n",
            "\n",
            "Epoch 00001: val_accuracy improved from -inf to 0.72066, saving model to variation_dropout.h5\n",
            "Epoch 2/10\n",
            "62/62 [==============================] - 26s 416ms/step - loss: 0.3764 - accuracy: 0.8211 - val_loss: 0.1212 - val_accuracy: 0.8826\n",
            "\n",
            "Epoch 00002: val_accuracy improved from 0.72066 to 0.88263, saving model to variation_dropout.h5\n",
            "Epoch 3/10\n",
            "62/62 [==============================] - 26s 414ms/step - loss: 0.2886 - accuracy: 0.8760 - val_loss: 0.4529 - val_accuracy: 0.7887\n",
            "\n",
            "Epoch 00003: val_accuracy did not improve from 0.88263\n",
            "Epoch 4/10\n",
            "62/62 [==============================] - 25s 410ms/step - loss: 0.3001 - accuracy: 0.8750 - val_loss: 0.4278 - val_accuracy: 0.7981\n",
            "\n",
            "Epoch 00004: val_accuracy did not improve from 0.88263\n",
            "Epoch 5/10\n",
            "62/62 [==============================] - 25s 407ms/step - loss: 0.2536 - accuracy: 0.8852 - val_loss: 0.5585 - val_accuracy: 0.8146\n",
            "\n",
            "Epoch 00005: val_accuracy did not improve from 0.88263\n",
            "Epoch 6/10\n",
            "62/62 [==============================] - 25s 409ms/step - loss: 0.1962 - accuracy: 0.9283 - val_loss: 0.1433 - val_accuracy: 0.8155\n",
            "\n",
            "Epoch 00006: val_accuracy did not improve from 0.88263\n",
            "Epoch 7/10\n",
            "62/62 [==============================] - 26s 413ms/step - loss: 0.2364 - accuracy: 0.9106 - val_loss: 0.6023 - val_accuracy: 0.8498\n",
            "\n",
            "Epoch 00007: val_accuracy did not improve from 0.88263\n",
            "Epoch 00007: early stopping\n"
          ],
          "name": "stdout"
        }
      ]
    },
    {
      "cell_type": "code",
      "metadata": {
        "id": "Kfl8HnopY1ab",
        "colab_type": "code",
        "colab": {
          "base_uri": "https://localhost:8080/",
          "height": 573
        },
        "outputId": "c5ad6717-d83d-4ca3-c83d-5eaa501c72e4"
      },
      "source": [
        "# Plot training & validation accuracy values\n",
        "import matplotlib.pyplot as plt\n",
        "%matplotlib inline\n",
        "plt.plot(history.history['accuracy'])\n",
        "plt.plot(history.history['val_accuracy'])\n",
        "plt.title('Model accuracy')\n",
        "plt.ylabel('Accuracy')\n",
        "plt.xlabel('Epoch')\n",
        "plt.legend(['Train', 'Val'], loc='upper left')\n",
        "plt.show()\n",
        "\n",
        "# Plot training & validation loss values\n",
        "plt.plot(history.history['loss'])\n",
        "plt.plot(history.history['val_loss'])\n",
        "plt.title('Model loss')\n",
        "plt.ylabel('Loss')\n",
        "plt.xlabel('Epoch')\n",
        "plt.legend(['Train', 'Val'], loc='upper left')\n",
        "plt.show()"
      ],
      "execution_count": 14,
      "outputs": [
        {
          "output_type": "display_data",
          "data": {
            "image/png": "[encoded data removed]",
            "text/plain": [
              "<Figure size 432x288 with 1 Axes>"
            ]
          },
          "metadata": {
            "tags": [],
            "needs_background": "light"
          }
        },
        {
          "output_type": "display_data",
          "data": {
            "image/png": "[encoded data removed]",
            "text/plain": [
              "<Figure size 432x288 with 1 Axes>"
            ]
          },
          "metadata": {
            "tags": [],
            "needs_background": "light"
          }
        }
      ]
    },
    {
      "cell_type": "code",
      "metadata": {
        "id": "HXHTri4BaChy",
        "colab_type": "code",
        "colab": {}
      },
      "source": [
        ""
      ],
      "execution_count": null,
      "outputs": []
    }
  ]
}